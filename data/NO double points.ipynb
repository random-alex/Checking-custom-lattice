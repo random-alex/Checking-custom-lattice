{
 "cells": [
  {
   "cell_type": "code",
   "execution_count": 9,
   "metadata": {
    "collapsed": true
   },
   "outputs": [],
   "source": [
    "import pyalps\n",
    "import matplotlib.pyplot as plt\n",
    "#import pyalps.pyplot\n",
    "import numpy as np\n",
    "import pyalps.fit_wrapper as fw\n",
    "from math import sqrt\n",
    "\n",
    "\n"
   ]
  },
  {
   "cell_type": "code",
   "execution_count": 10,
   "metadata": {},
   "outputs": [],
   "source": [
    "#prepare the input parameters\n",
    "parms = []\n",
    "#leng = np.linspace(8,20,6).tolist()\n",
    "\n",
    "dd = np.linspace(0.1,2,12).tolist()\n",
    "#dd = [0.2]\n",
    "for l in [1]:\n",
    "    for t in dd:\n",
    "        parms.append(\n",
    "            { \n",
    "          'LATTICE'                   : \"OSL for circle\", \n",
    "          'MODEL'                     : \"spin\",\n",
    "          'MEASURE[Correlations]'     : True,\n",
    "          'MEASURE[Structure Factor]' : False, \n",
    "          'LATTICE_LIBRARY'           : 'my_lattice_NO_double_points.xml',\n",
    "          #'MODEL_LIBRARY'             : 'models.xml',\n",
    "          'local_S'                   : 0.5,\n",
    "          #   'ALGORITHM'             : 'loop',\n",
    "          'T'                         : t,\n",
    "          'J'                         : 1 ,#antiferromagnetic state\n",
    "          'THERMALIZATION'            : 10000,\n",
    "          'SWEEPS'                    : 100000,\n",
    "          'L'                         : l,#size of lattice\n",
    "          'h'                         : 0,#magnetic field in z direction\n",
    "          'SEED'                      : 0\n",
    "            }\n",
    "            )\n"
   ]
  },
  {
   "cell_type": "code",
   "execution_count": 11,
   "metadata": {
    "collapsed": true
   },
   "outputs": [],
   "source": [
    "#write the input file and run the simulation\n",
    "name = 'OSL NO double point' \n",
    "input_file = pyalps.writeInputFiles(name,parms)"
   ]
  },
  {
   "cell_type": "code",
   "execution_count": 12,
   "metadata": {
    "scrolled": true
   },
   "outputs": [
    {
     "name": "stdout",
     "output_type": "stream",
     "text": [
      "dirloop_sse \"OSL NO double point.in.xml\" --write-xml\n"
     ]
    }
   ],
   "source": [
    "res = pyalps.runApplication('dirloop_sse',input_file, writexml= True)"
   ]
  },
  {
   "cell_type": "code",
   "execution_count": null,
   "metadata": {
    "collapsed": true
   },
   "outputs": [],
   "source": []
  }
 ],
 "metadata": {
  "kernelspec": {
   "display_name": "Python 2",
   "language": "python",
   "name": "python2"
  },
  "language_info": {
   "codemirror_mode": {
    "name": "ipython",
    "version": 2
   },
   "file_extension": ".py",
   "mimetype": "text/x-python",
   "name": "python",
   "nbconvert_exporter": "python",
   "pygments_lexer": "ipython2",
   "version": "2.7.14"
  }
 },
 "nbformat": 4,
 "nbformat_minor": 2
}
